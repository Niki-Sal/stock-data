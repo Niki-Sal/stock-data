{
 "cells": [
  {
   "cell_type": "code",
   "execution_count": 97,
   "id": "loved-bosnia",
   "metadata": {},
   "outputs": [],
   "source": [
    "from selenium import webdriver\n",
    "import datetime, re, requests, io, time, random, string\n",
    "from bs4 import BeautifulSoup\n",
    "from credentials import email, password\n",
    "from pymongo import MongoClient\n",
    "import datetime\n",
    "client = MongoClient('localhost', 27017)"
   ]
  },
  {
   "cell_type": "code",
   "execution_count": 47,
   "id": "cooked-roller",
   "metadata": {},
   "outputs": [
    {
     "data": {
      "text/plain": [
       "'https://wallmine.com/nasdaq/tsla'"
      ]
     },
     "execution_count": 47,
     "metadata": {},
     "output_type": "execute_result"
    }
   ],
   "source": [
    "urls = {\n",
    "    'sign_in': 'https://wallmine.com/users/sign-in',\n",
    "    'homepage': 'https://wallmine.com/',\n",
    "    'view_stock': lambda exchange, symbol: f'https://wallmine.com/{exchange}/{symbol}'\n",
    "}\n",
    "urls['view_stock']('nasdaq','tsla')"
   ]
  },
  {
   "cell_type": "code",
   "execution_count": 48,
   "id": "thrown-series",
   "metadata": {},
   "outputs": [],
   "source": [
    "driver = webdriver.Chrome('/Users/nikkisalehi/downloads/chromedriver')"
   ]
  },
  {
   "cell_type": "code",
   "execution_count": 49,
   "id": "chemical-reunion",
   "metadata": {},
   "outputs": [],
   "source": [
    "def login():\n",
    "    '''Method used to login into Wallmine account'''\n",
    "    driver.get('https://wallmine.com/users/sign-in')\n",
    "    time.sleep(3)\n",
    "    driver.find_element_by_xpath('//*[@id=\"new_user\"]/div[5]/div[1]/div[2]/a').click()\n",
    "    time.sleep(0.5)\n",
    "    driver.find_element_by_xpath('//*[@id=\"user_email\"]').send_keys(email)\n",
    "    driver.find_element_by_xpath('//*[@id=\"user_password\"]').send_keys(password)\n",
    "    time.sleep(0.1)\n",
    "    driver.find_element_by_xpath('//*[@id=\"new_user\"]/div[5]/div[2]/div[1]/button').click()\n",
    "    time.sleep(3)\n",
    "    if driver.find_element_by_xpath('/html/body/main/section/div[2]/div/div[1]/h1/span'):\n",
    "        print('Login was successful')\n",
    "        "
   ]
  },
  {
   "cell_type": "code",
   "execution_count": 50,
   "id": "recent-illness",
   "metadata": {},
   "outputs": [
    {
     "name": "stdout",
     "output_type": "stream",
     "text": [
      "Login was successful\n"
     ]
    }
   ],
   "source": [
    "login()"
   ]
  },
  {
   "cell_type": "code",
   "execution_count": 73,
   "id": "hairy-packing",
   "metadata": {},
   "outputs": [],
   "source": [
    "  def retrieve_data():\n",
    "    '''Method use to retrieve stock data from Wallmine'''\n",
    "    # we need to be on the site after login in order for this method to work\n",
    "    driver.find_element_by_xpath('//*[@id=\"homepage-heatmap\"]/a/div[2]').click()\n",
    "    time.sleep(5)\n",
    "    text = driver.find_element_by_xpath('/html/body/main/section/div[4]/div/div/div[1]/div/div[1]/h1').text\n",
    "    time.sleep(5)\n",
    "    if text == \"Free Stock Screener\":\n",
    "        print('On the right page')\n",
    "     \n",
    "    driver.find_element_by_xpath('/html/body/main/section/div[5]/div/div/div[1]/div/ul/li[1]/a').click()\n",
    "    time.sleep(5) \n",
    "    table_head = driver.find_element_by_xpath('/html/body/main/section/div[5]/div/div/div[2]/table/thead').text\n",
    "    table_body = driver.find_element_by_xpath('/html/body/main/section/div[5]/div/div/div[2]/table/tbody').text\n",
    "    time.sleep(2) \n",
    "    raw_data = [table_head, table_body]\n",
    "    \n",
    "    return raw_data"
   ]
  },
  {
   "cell_type": "code",
   "execution_count": 74,
   "id": "danish-rendering",
   "metadata": {},
   "outputs": [
    {
     "name": "stdout",
     "output_type": "stream",
     "text": [
      "On the right page\n"
     ]
    },
    {
     "data": {
      "text/plain": [
       "['▴ ▴\\nSymbol\\n▴ ▴\\nCompany\\n▴ ▴\\nExchange\\n▴ ▴\\nIndustry\\n▴ ▴\\nMarket cap\\n▴ ▴\\nEBITDA\\n▴ ▴\\nP/E\\n▴ ▴\\nEV/EBITDA\\n▴ ▴\\nDebt/Equity\\n▴ ▴\\nAverage volume\\n▴ ▴\\nInstitutional ownership\\n▴ ▴\\nEarnings date\\n▴ ▴\\nPrice\\n▴ ▴\\nPerformance today',\n",
       " 'AAPL Apple Inc NASDAQ Consumer Electronics $1.97T $85.159B 32.21 24.07 3.96 114.562M 59.66% 27 Jan 2021 $121.21 +0.51%\\nMSFT Microsoft Corporation NASDAQ Internet Services & Infrastructure $1.76T $60.155B 34.25 27.69 1.55 30.361M 71.84% 26 Jan 2021 $236.48 +1.78%\\nAMZN Amazon.com Inc. NASDAQ Specialty Retail $1.52T $48.091B 71.44 31.10 2.44 4.102M 58.66% 2 Feb 2021 $3,052.03 +0.19%\\nGOOGL Alphabet Inc NASDAQ Internet Services & Infrastructure $1.38T $55.322B 34.36 22.72 0.44 N/A 80.25% 2 Feb 2021 $2,024.73 -0.38%\\nGOOG Alphabet Inc NASDAQ Internet Services & Infrastructure $1.38T N/A 41.23 N/A 0.44 1.613M 68.10% 2 Feb 2021 $2,035.55 -0.43%\\nFB Facebook Inc NASDAQ Internet Services & Infrastructure $826.14B $39.533B 27.27 19.38 0.24 18.669M 79.77% 27 Jan 2021 $282.96 +1.51%\\nBABA Alibaba Group Holding Ltd NYSE Specialty Retail $620.78B ¥17.718B 24.98 220.22 0.57 26.259M 43.86% 2 Feb 2021 $227.31 +2.06%\\nTSLA Tesla Inc NASDAQ Automobile Manufacturers $584.17B $4.316B 822.86 143.87 1.28 N/A 42.53% 27 Jan 2021 $618.80 -3.37%\\nBRK-A Berkshire Hathaway Inc. NYSE Multi-line Insurance $582.48B $79.117B 23.08 7.95 0.95 1.096k 17.82% N/A $387,995.00 +2.45%\\nBRK-B Berkshire Hathaway Inc. NYSE Multi-line Insurance $577.61B $80.317B 14.10 7.83 0.95 5.189M 69.00% 30 Apr 2021 $256.46 +2.28%\\nTSM Taiwan Semiconductor Manufacturing NYSE Semiconductors $538.77B NT$28.842B 55.52 573.32 0.49 15.267M 19.09% N/A $116.56 +5.53%\\nJPM JPMorgan Chase & Co. NYSE Diversified Banks 460.69B$ 44.021B$ 17.16 10.75 11.12 13.445M 71.93% N/A $155.09 +1.67%\\nV Visa Inc NYSE Consumer Finance $458.76B $14.703B 42.79 31.22 1.23 10.070M 96.02% 28 Jan 2021 $213.53 +2.67%\\nJNJ Johnson & Johnson NYSE Pharmaceuticals $422.47B $27.145B 28.97 15.89 1.76 8.675M 69.79% 26 Jan 2021 $164.93 +1.83%\\nWMT Walmart Inc NYSE Hypermarkets & Super Centers $372.73B $33.544B 28.09 12.20 2.04 8.668M 30.35% 18 Feb 2021 $135.13 +0.84%\\nMA Mastercard Incorporated NYSE Consumer Finance $350.66B $8.734B 55.99 40.45 4.24 4.638M 77.40% 28 Jan 2021 $366.14 +2.17%\\nUNH Unitedhealth Group Inc NYSE Managed Health Care $343.49B $25.296B 22.86 15.38 1.94 2.952M 89.32% N/A $376.48 +1.45%\\nDIS Walt Disney Co (The) NYSE Media $335.32B $7.208B N/A 53.85 1.36 8.929M 65.66% 11 Feb 2021 $185.86 -0.56%\\nBAC Bank Of America Corp. NYSE Diversified Banks $318.35B $20.838B 20.03 15.95 9.33 53.790M 71.10% N/A $38.68 +2.71%\\nPG Procter & Gamble Co. NYSE Household & Personal Products $315.54B $20.550B 24.42 16.27 1.57 N/A 66.12% N/A $135.56 +1.56%\\nNVDA NVIDIA Corp NASDAQ Semiconductors $314.26B $5.630B 71.43 55.77 0.70 9.070M 68.43% 24 Feb 2021 $513.57 +2.43%\\nHD Home Depot, Inc. NYSE Home Improvement Retail $311.07B $19.684B 24.81 16.86 20.39 4.456M 71.43% 23 Feb 2021 $303.81 +2.23%\\nPYPL PayPal Holdings Inc NASDAQ Consumer Finance $274.37B $4.617B 65.43 60.31 2.51 9.007M 85.54% 3 Feb 2021 $241.03 +2.90%\\nINTC Intel Corp. NASDAQ Semiconductors $260.15B $36.115B 12.85 7.52 0.89 28.486M 66.41% N/A $64.87 +4.60%\\nCMCSA Comcast Corp NASDAQ Cable & Satellite $248.27B $30.480B 23.56 11.33 2.02 20.522M 85.68% 28 Jan 2021 $55.18 -1.99%\\nVZ Verizon Communications Inc NYSE Telecommunication Services $235.82B $45.473B 13.34 7.47 3.64 16.838M 66.32% 26 Jan 2021 $58.18 +1.39%\\nASML ASML Holding NV NASDAQ Semiconductor Equipment $234.85B €5.691B 95.63 33.74 0.97 1.151M 18.34% N/A $625.67 +7.14%\\nXOM Exxon Mobil Corp. NYSE Integrated Oil & Gas $233.78B $19.489B N/A 15.52 1.07 N/A 52.20% 2 Feb 2021 $57.71 +2.72%\\nUL Unilever plc NYSE Household & Personal Products $230.41B €14.207B 23.25 10.19 2.83 1.473M 3.75% 4 Feb 2021 $56.19 +0.38%\\nKO Coca-Cola Co NYSE Soft Drinks $225.57B $12.364B 28.90 20.29 3.42 17.147M 68.20% 10 Feb 2021 $53.08 +2.04%\\nMPNGY Meituan Dianping NYSEMKT Internet Retail $223.21B ¥688.759M 174.77 83.72 0.43 55.357k 0.01% N/A $76.01 +2.47%\\nMPNGY Meituan Dianping NASDAQ Internet Retail $223.21B ¥688.759M 172.75 2,428.52 0.43 55.731k 0.01% N/A $76.01 +2.47%\\nADBE Adobe Inc NASDAQ Application Software $222.74B $4.399B 42.47 47.72 0.83 4.615M 86.10% 23 Mar 2021 $469.09 +4.01%\\nNFLX NetFlix Inc NASDAQ Media $222.71B $15.508B 79.97 15.11 2.55 5.340M 81.92% N/A $508.05 +1.03%\\nTM Toyota Motor Corporation NYSE Automobile Manufacturers $221.83B ¥35.445B 12.28 736.93 1.59 299.650k 1.16% 10 Feb 2021 $153.37 +1.52%\\nNKE Nike, Inc. NYSE Footwear $216.75B $4.437B 71.96 48.11 2.89 6.412M 83.93% 18 Mar 2021 $132.99 +3.38%\\nCSCO Cisco Systems, Inc. NASDAQ Communications Equipment $213.24B $13.687B 21.68 13.94 1.50 15.459M 74.11% 9 Feb 2021 $52.57 +4.08%\\nT AT&T, Inc. NYSE Telecommunication Services $212.80B $53.896B N/A 6.67 2.14 N/A 53.53% 27 Jan 2021 $30.31 +0.76%\\nABT Abbott Laboratories NYSE Health Care Equipment $205.28B $7.489B 47.26 29.99 1.20 6.694M 75.58% 27 Jan 2021 $122.07 +2.54%\\nCVX Chevron Corp. NYSE Integrated Oil & Gas $201.86B $12.939B N/A 18.38 0.81 12.433M 62.86% 29 Jan 2021 $107.46 +2.28%\\nPDD Pinduoduo Inc NASDAQ Specialty Retail $200.28B N/A 0.00 N/A 1.64 12.206M 27.68% 17 Mar 2021 $131.29 +2.95%\\nPFE Pfizer Inc. NYSE Pharmaceuticals $198.19B $13.590B 20.64 16.61 1.44 31.536M 69.90% 2 Feb 2021 $36.25 +1.63%\\nMRK Merck & Co Inc NYSE Pharmaceuticals $196.13B $12.108B 27.27 18.16 2.61 11.587M 75.98% 4 Feb 2021 $77.45 +1.81%\\nAVGO Broadcom Inc NASDAQ Semiconductors $194.25B $11.426B 52.60 19.79 2.18 1.956M 83.17% 4 Mar 2021 $482.04 +4.41%\\nNVS Novartis AG NYSE Pharmaceuticals $194.12B $18.737B 17.07 12.72 1.33 N/A 10.08% 26 Jan 2021 $87.41 +0.23%\\nORCL Oracle Corp. NYSE Internet Services & Infrastructure $193.66B $16.908B 16.04 13.28 8.51 14.264M 49.83% 10 Mar 2021 $70.24 +2.35%\\nCRM Salesforce.Com Inc NYSE Application Software $189.21B $3.301B 45.86 56.39 0.60 7.585M 83.47% 25 Feb 2021 $209.09 +1.78%\\nABBV Abbvie Inc NYSE Pharmaceuticals $185.49B $19.032B 38.06 13.67 10.51 7.513M 70.00% 3 Feb 2021 $105.97 +2.01%\\nPEP PepsiCo Inc NASDAQ Soft Drinks $183.54B $12.628B 27.17 17.43 5.90 6.139M 72.82% 11 Feb 2021 $142.70 +2.20%\\nLLY Lilly(Eli) & Co NYSE Pharmaceuticals $181.30B $8.174B 26.85 23.19 7.23 3.524M 79.17% 29 Jan 2021 $185.31 +1.21%']"
      ]
     },
     "execution_count": 74,
     "metadata": {},
     "output_type": "execute_result"
    }
   ],
   "source": [
    "got_data = retrieve_data()\n",
    "got_data"
   ]
  },
  {
   "cell_type": "code",
   "execution_count": 75,
   "id": "corporate-chrome",
   "metadata": {},
   "outputs": [
    {
     "data": {
      "text/plain": [
       "'▴ ▴\\nSymbol\\n▴ ▴\\nCompany\\n▴ ▴\\nExchange\\n▴ ▴\\nIndustry\\n▴ ▴\\nMarket cap\\n▴ ▴\\nEBITDA\\n▴ ▴\\nP/E\\n▴ ▴\\nEV/EBITDA\\n▴ ▴\\nDebt/Equity\\n▴ ▴\\nAverage volume\\n▴ ▴\\nInstitutional ownership\\n▴ ▴\\nEarnings date\\n▴ ▴\\nPrice\\n▴ ▴\\nPerformance today'"
      ]
     },
     "execution_count": 75,
     "metadata": {},
     "output_type": "execute_result"
    }
   ],
   "source": [
    "got_data[0]"
   ]
  },
  {
   "cell_type": "code",
   "execution_count": 77,
   "id": "brutal-sucking",
   "metadata": {},
   "outputs": [
    {
     "data": {
      "text/plain": [
       "['▴ ▴',\n",
       " 'Symbol',\n",
       " '▴ ▴',\n",
       " 'Company',\n",
       " '▴ ▴',\n",
       " 'Exchange',\n",
       " '▴ ▴',\n",
       " 'Industry',\n",
       " '▴ ▴',\n",
       " 'Market cap',\n",
       " '▴ ▴',\n",
       " 'EBITDA',\n",
       " '▴ ▴',\n",
       " 'P/E',\n",
       " '▴ ▴',\n",
       " 'EV/EBITDA',\n",
       " '▴ ▴',\n",
       " 'Debt/Equity',\n",
       " '▴ ▴',\n",
       " 'Average volume',\n",
       " '▴ ▴',\n",
       " 'Institutional ownership',\n",
       " '▴ ▴',\n",
       " 'Earnings date',\n",
       " '▴ ▴',\n",
       " 'Price',\n",
       " '▴ ▴',\n",
       " 'Performance today']"
      ]
     },
     "execution_count": 77,
     "metadata": {},
     "output_type": "execute_result"
    }
   ],
   "source": [
    "clean_data_head = got_data[0].split('\\n')\n",
    "clean_data_head"
   ]
  },
  {
   "cell_type": "code",
   "execution_count": 78,
   "id": "trained-rebecca",
   "metadata": {},
   "outputs": [],
   "source": [
    "def remove_characters(x):\n",
    "    if x == '▴ ▴':\n",
    "        return False\n",
    "    else:\n",
    "        return True"
   ]
  },
  {
   "cell_type": "code",
   "execution_count": 81,
   "id": "nutritional-inclusion",
   "metadata": {},
   "outputs": [
    {
     "data": {
      "text/plain": [
       "['Symbol',\n",
       " 'Company',\n",
       " 'Exchange',\n",
       " 'Industry',\n",
       " 'Market cap',\n",
       " 'EBITDA',\n",
       " 'P/E',\n",
       " 'EV/EBITDA',\n",
       " 'Debt/Equity',\n",
       " 'Average volume',\n",
       " 'Institutional ownership',\n",
       " 'Earnings date',\n",
       " 'Price',\n",
       " 'Performance today']"
      ]
     },
     "execution_count": 81,
     "metadata": {},
     "output_type": "execute_result"
    }
   ],
   "source": [
    "categories = list(filter(remove_characters, clean_data_head))\n",
    "categories"
   ]
  },
  {
   "cell_type": "code",
   "execution_count": 84,
   "id": "sorted-carrier",
   "metadata": {},
   "outputs": [
    {
     "data": {
      "text/plain": [
       "'AAPL Apple Inc NASDAQ Consumer Electronics $1.97T $85.159B 32.21 24.07 3.96 114.562M 59.66% 27 Jan 2021 $121.21 +0.51%'"
      ]
     },
     "execution_count": 84,
     "metadata": {},
     "output_type": "execute_result"
    }
   ],
   "source": [
    "clean_data_body = got_data[1].split('\\n')\n",
    "clean_data_body[0]"
   ]
  },
  {
   "cell_type": "code",
   "execution_count": 85,
   "id": "statewide-satisfaction",
   "metadata": {},
   "outputs": [
    {
     "data": {
      "text/plain": [
       "['AAPL Apple Inc NASDAQ Consumer Electronics ',\n",
       " '1.97T ',\n",
       " '85.159B 32.21 24.07 3.96 114.562M 59.66% 27 Jan 2021 ',\n",
       " '121.21 +0.51%']"
      ]
     },
     "execution_count": 85,
     "metadata": {},
     "output_type": "execute_result"
    }
   ],
   "source": [
    "split_company = clean_data_body[0].split('$')\n",
    "split_company"
   ]
  },
  {
   "cell_type": "code",
   "execution_count": 87,
   "id": "italic-intro",
   "metadata": {},
   "outputs": [
    {
     "ename": "SyntaxError",
     "evalue": "invalid syntax (<ipython-input-87-df126c6a80ca>, line 9)",
     "output_type": "error",
     "traceback": [
      "\u001b[0;36m  File \u001b[0;32m\"<ipython-input-87-df126c6a80ca>\"\u001b[0;36m, line \u001b[0;32m9\u001b[0m\n\u001b[0;31m    'company_name': 'Apple Inc',\u001b[0m\n\u001b[0m                  ^\u001b[0m\n\u001b[0;31mSyntaxError\u001b[0m\u001b[0;31m:\u001b[0m invalid syntax\n"
     ]
    }
   ],
   "source": [
    "# TODO Make an object with the following:\n",
    "# Symbol\n",
    "# Company Name\n",
    "# Exchange\n",
    "# Price\n",
    "# Store all of these inside of an object\n",
    "{\n",
    "    'symbol' 'AAPL',\n",
    "    'company_name': 'Apple Inc',\n",
    "    'exchange': 'NASDAQ',\n",
    "    'price': '121.21'\n",
    "}"
   ]
  },
  {
   "cell_type": "code",
   "execution_count": 98,
   "id": "alternate-waterproof",
   "metadata": {},
   "outputs": [],
   "source": [
    "def parse_company(split_company):\n",
    "    result = {}\n",
    "    split_row_one = split_company[0].split(' ')\n",
    "    split_row_two = split_company[1].split(' ')\n",
    "    split_row_three = split_company[2].split(' ')\n",
    "    split_row_four = split_company[3].split(' ')\n",
    "    stop = ['NASDAQ', 'NYSE', 'NYSEMKT']\n",
    "    symbol = split_row_one[0]\n",
    "    price = split_row_four[0]\n",
    "    for n in stop:\n",
    "        if n in split_company[0]:\n",
    "            exchange = n\n",
    "    a = split_row_one.index(exchange)\n",
    "    company_name_arr = split_row_one[1:a]\n",
    "    company_name = ' '.join(str(e) for e in company_name_arr)\n",
    "    result['company_name'] = company_name\n",
    "    result['exchange'] = exchange\n",
    "    result['symbol'] = symbol\n",
    "    result['price'] = price\n",
    "    result['date'] = datetime.datetime.now()\n",
    "    return result # object/dictionary\n",
    "    \n"
   ]
  },
  {
   "cell_type": "code",
   "execution_count": 100,
   "id": "trying-seating",
   "metadata": {},
   "outputs": [],
   "source": [
    "all_company_data = []\n",
    "for stock in clean_data_body:\n",
    "    if 'N/A' in stock:\n",
    "        continue\n",
    "    elif '¥' in stock:\n",
    "        continue\n",
    "    elif '€' in stock:\n",
    "        continue\n",
    "    split_company = stock.split('$')\n",
    "    x = parse_company(split_company)\n",
    "    all_company_data.append(x)"
   ]
  },
  {
   "cell_type": "code",
   "execution_count": 101,
   "id": "forbidden-criminal",
   "metadata": {},
   "outputs": [
    {
     "data": {
      "text/plain": [
       "[['Symbol',\n",
       "  'Company',\n",
       "  'Exchange',\n",
       "  'Industry',\n",
       "  'Market cap',\n",
       "  'EBITDA',\n",
       "  'P/E',\n",
       "  'EV/EBITDA',\n",
       "  'Debt/Equity',\n",
       "  'Average volume',\n",
       "  'Institutional ownership',\n",
       "  'Earnings date',\n",
       "  'Price',\n",
       "  'Performance today'],\n",
       " [{'company_name': 'Apple Inc',\n",
       "   'exchange': 'NASDAQ',\n",
       "   'symbol': 'AAPL',\n",
       "   'price': '121.21',\n",
       "   'date': datetime.datetime(2021, 3, 26, 16, 55, 10, 630274)},\n",
       "  {'company_name': 'Microsoft Corporation',\n",
       "   'exchange': 'NASDAQ',\n",
       "   'symbol': 'MSFT',\n",
       "   'price': '236.48',\n",
       "   'date': datetime.datetime(2021, 3, 26, 16, 55, 10, 630288)},\n",
       "  {'company_name': 'Amazon.com Inc.',\n",
       "   'exchange': 'NASDAQ',\n",
       "   'symbol': 'AMZN',\n",
       "   'price': '3,052.03',\n",
       "   'date': datetime.datetime(2021, 3, 26, 16, 55, 10, 630294)},\n",
       "  {'company_name': 'Facebook Inc',\n",
       "   'exchange': 'NASDAQ',\n",
       "   'symbol': 'FB',\n",
       "   'price': '282.96',\n",
       "   'date': datetime.datetime(2021, 3, 26, 16, 55, 10, 630300)},\n",
       "  {'company_name': 'Berkshire Hathaway Inc.',\n",
       "   'exchange': 'NYSE',\n",
       "   'symbol': 'BRK-B',\n",
       "   'price': '256.46',\n",
       "   'date': datetime.datetime(2021, 3, 26, 16, 55, 10, 630307)},\n",
       "  {'company_name': 'Visa Inc',\n",
       "   'exchange': 'NYSE',\n",
       "   'symbol': 'V',\n",
       "   'price': '213.53',\n",
       "   'date': datetime.datetime(2021, 3, 26, 16, 55, 10, 630314)},\n",
       "  {'company_name': 'Johnson & Johnson',\n",
       "   'exchange': 'NYSE',\n",
       "   'symbol': 'JNJ',\n",
       "   'price': '164.93',\n",
       "   'date': datetime.datetime(2021, 3, 26, 16, 55, 10, 630319)},\n",
       "  {'company_name': 'Walmart Inc',\n",
       "   'exchange': 'NYSE',\n",
       "   'symbol': 'WMT',\n",
       "   'price': '135.13',\n",
       "   'date': datetime.datetime(2021, 3, 26, 16, 55, 10, 630325)},\n",
       "  {'company_name': 'Mastercard Incorporated',\n",
       "   'exchange': 'NYSE',\n",
       "   'symbol': 'MA',\n",
       "   'price': '366.14',\n",
       "   'date': datetime.datetime(2021, 3, 26, 16, 55, 10, 630330)},\n",
       "  {'company_name': 'NVIDIA Corp',\n",
       "   'exchange': 'NASDAQ',\n",
       "   'symbol': 'NVDA',\n",
       "   'price': '513.57',\n",
       "   'date': datetime.datetime(2021, 3, 26, 16, 55, 10, 630336)},\n",
       "  {'company_name': 'Home Depot, Inc.',\n",
       "   'exchange': 'NYSE',\n",
       "   'symbol': 'HD',\n",
       "   'price': '303.81',\n",
       "   'date': datetime.datetime(2021, 3, 26, 16, 55, 10, 630343)},\n",
       "  {'company_name': 'PayPal Holdings Inc',\n",
       "   'exchange': 'NASDAQ',\n",
       "   'symbol': 'PYPL',\n",
       "   'price': '241.03',\n",
       "   'date': datetime.datetime(2021, 3, 26, 16, 55, 10, 630348)},\n",
       "  {'company_name': 'Comcast Corp',\n",
       "   'exchange': 'NASDAQ',\n",
       "   'symbol': 'CMCSA',\n",
       "   'price': '55.18',\n",
       "   'date': datetime.datetime(2021, 3, 26, 16, 55, 10, 630354)},\n",
       "  {'company_name': 'Verizon Communications Inc',\n",
       "   'exchange': 'NYSE',\n",
       "   'symbol': 'VZ',\n",
       "   'price': '58.18',\n",
       "   'date': datetime.datetime(2021, 3, 26, 16, 55, 10, 630360)},\n",
       "  {'company_name': 'Coca-Cola Co',\n",
       "   'exchange': 'NYSE',\n",
       "   'symbol': 'KO',\n",
       "   'price': '53.08',\n",
       "   'date': datetime.datetime(2021, 3, 26, 16, 55, 10, 630366)},\n",
       "  {'company_name': 'Adobe Inc',\n",
       "   'exchange': 'NASDAQ',\n",
       "   'symbol': 'ADBE',\n",
       "   'price': '469.09',\n",
       "   'date': datetime.datetime(2021, 3, 26, 16, 55, 10, 630371)},\n",
       "  {'company_name': 'Nike, Inc.',\n",
       "   'exchange': 'NYSE',\n",
       "   'symbol': 'NKE',\n",
       "   'price': '132.99',\n",
       "   'date': datetime.datetime(2021, 3, 26, 16, 55, 10, 630376)},\n",
       "  {'company_name': 'Cisco Systems, Inc.',\n",
       "   'exchange': 'NASDAQ',\n",
       "   'symbol': 'CSCO',\n",
       "   'price': '52.57',\n",
       "   'date': datetime.datetime(2021, 3, 26, 16, 55, 10, 630381)},\n",
       "  {'company_name': 'Abbott Laboratories',\n",
       "   'exchange': 'NYSE',\n",
       "   'symbol': 'ABT',\n",
       "   'price': '122.07',\n",
       "   'date': datetime.datetime(2021, 3, 26, 16, 55, 10, 630387)},\n",
       "  {'company_name': 'Pfizer Inc.',\n",
       "   'exchange': 'NYSE',\n",
       "   'symbol': 'PFE',\n",
       "   'price': '36.25',\n",
       "   'date': datetime.datetime(2021, 3, 26, 16, 55, 10, 630392)},\n",
       "  {'company_name': 'Merck & Co Inc',\n",
       "   'exchange': 'NYSE',\n",
       "   'symbol': 'MRK',\n",
       "   'price': '77.45',\n",
       "   'date': datetime.datetime(2021, 3, 26, 16, 55, 10, 630397)},\n",
       "  {'company_name': 'Broadcom Inc',\n",
       "   'exchange': 'NASDAQ',\n",
       "   'symbol': 'AVGO',\n",
       "   'price': '482.04',\n",
       "   'date': datetime.datetime(2021, 3, 26, 16, 55, 10, 630403)},\n",
       "  {'company_name': 'Oracle Corp.',\n",
       "   'exchange': 'NYSE',\n",
       "   'symbol': 'ORCL',\n",
       "   'price': '70.24',\n",
       "   'date': datetime.datetime(2021, 3, 26, 16, 55, 10, 630408)},\n",
       "  {'company_name': 'Salesforce.Com Inc',\n",
       "   'exchange': 'NYSE',\n",
       "   'symbol': 'CRM',\n",
       "   'price': '209.09',\n",
       "   'date': datetime.datetime(2021, 3, 26, 16, 55, 10, 630413)},\n",
       "  {'company_name': 'Abbvie Inc',\n",
       "   'exchange': 'NYSE',\n",
       "   'symbol': 'ABBV',\n",
       "   'price': '105.97',\n",
       "   'date': datetime.datetime(2021, 3, 26, 16, 55, 10, 630418)},\n",
       "  {'company_name': 'PepsiCo Inc',\n",
       "   'exchange': 'NASDAQ',\n",
       "   'symbol': 'PEP',\n",
       "   'price': '142.70',\n",
       "   'date': datetime.datetime(2021, 3, 26, 16, 55, 10, 630423)},\n",
       "  {'company_name': 'Lilly(Eli) & Co',\n",
       "   'exchange': 'NYSE',\n",
       "   'symbol': 'LLY',\n",
       "   'price': '185.31',\n",
       "   'date': datetime.datetime(2021, 3, 26, 16, 55, 10, 630428)}]]"
      ]
     },
     "execution_count": 101,
     "metadata": {},
     "output_type": "execute_result"
    }
   ],
   "source": [
    "final_list = [categories, all_company_data]\n",
    "final_list"
   ]
  },
  {
   "cell_type": "code",
   "execution_count": null,
   "id": "derived-deadline",
   "metadata": {},
   "outputs": [],
   "source": []
  }
 ],
 "metadata": {
  "kernelspec": {
   "display_name": "Python 3",
   "language": "python",
   "name": "python3"
  },
  "language_info": {
   "codemirror_mode": {
    "name": "ipython",
    "version": 3
   },
   "file_extension": ".py",
   "mimetype": "text/x-python",
   "name": "python",
   "nbconvert_exporter": "python",
   "pygments_lexer": "ipython3",
   "version": "3.9.2"
  }
 },
 "nbformat": 4,
 "nbformat_minor": 5
}
